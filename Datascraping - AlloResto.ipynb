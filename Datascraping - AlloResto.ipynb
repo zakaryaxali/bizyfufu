{
 "cells": [
  {
   "cell_type": "code",
   "execution_count": null,
   "metadata": {
    "collapsed": false
   },
   "outputs": [],
   "source": [
    "import requests\n",
    "from bs4 import BeautifulSoup\n",
    "import json\n",
    "from selenium import webdriver\n",
    "from selenium.common.exceptions import TimeoutException\n",
    "from selenium.webdriver.support.ui import WebDriverWait # available since 2.4.0\n",
    "from selenium.webdriver.support import expected_conditions as EC # available since 2.26.0\n",
    "from selenium.webdriver.common.by import By"
   ]
  },
  {
   "cell_type": "code",
   "execution_count": null,
   "metadata": {
    "collapsed": true
   },
   "outputs": [],
   "source": [
    "#fonction qui recupere les tags avec comme attribut data-ar-restaurant-id\n",
    "def restaurants_id (tag):\n",
    "    return tag.has_attr('data-ar-restaurant-id')"
   ]
  },
  {
   "cell_type": "code",
   "execution_count": null,
   "metadata": {
    "collapsed": true
   },
   "outputs": [],
   "source": [
    "#fonction qui recupere les tags avec comme attribut data-product-id\n",
    "def plats_id (tag):\n",
    "    return tag.has_attr('data-product-id')"
   ]
  },
  {
   "cell_type": "code",
   "execution_count": null,
   "metadata": {
    "collapsed": false
   },
   "outputs": [],
   "source": [
    "#Fonction qui recupere les plats d'un restaurant donné et les ajoute à une liste\n",
    "def recuperer_liste_plats(link, id_restaurant, liste_plats):\n",
    "    req_carte = requests.get(link)\n",
    "\n",
    "    page_carte = req_carte.text\n",
    "    soup_carte = BeautifulSoup(page_carte, 'html.parser')\n",
    "\n",
    "    plats = soup_carte.find_all(plats_id)\n",
    "    \n",
    "    for plat in plats:\n",
    "        soup_p = BeautifulSoup(str(plat) , 'html.parser')\n",
    "        #print (soup_p.prettify())\n",
    "        \n",
    "        #id\n",
    "        id_plat = soup_p.find(\"li\")[\"data-product-id\"]\n",
    "\n",
    "        #On vérifie que le plat ajouté n'est pas deja dans la liste\n",
    "        isInList = False\n",
    "        for p in liste_plats:\n",
    "            if p[\"id\"]==id_plat:\n",
    "                isInList = True\n",
    "\n",
    "        if not isInList:\n",
    "            #nom du plat\n",
    "            name = soup_p.find(\"h4\" , {\"class\" : \"name\"}).find(\"span\").text\n",
    "\n",
    "            #logo\n",
    "            logo = \"\"\n",
    "            try:\n",
    "                logo = soup_p.find(\"img\" )['src']\n",
    "            except:\n",
    "                pass\n",
    "            \n",
    "            #prix\n",
    "            prix = soup_p.find(\"div\" , {\"class\" : \"price\"}).text\n",
    "            prix = \" \".join(prix.split())\n",
    "\n",
    "            #description\n",
    "            description = soup_p.find(\"div\" , {\"class\" : \"description\"}).text\n",
    "\n",
    "            objet = {\n",
    "                \"id_restaurant\" : id_restaurant,\n",
    "                \"id\" : id_plat,\n",
    "                \"name\" : name,\n",
    "                \"prix\" : prix,\n",
    "                \"descrption\" : description,\n",
    "                \"logo\" : logo\n",
    "            }\n",
    "            #print(objet[\"prix\"])\n",
    "\n",
    "            liste_plats.append(objet)"
   ]
  },
  {
   "cell_type": "code",
   "execution_count": null,
   "metadata": {
    "collapsed": false
   },
   "outputs": [],
   "source": [
    "#Fonction qui recupere les donnees des restaurants sur une page alloresto et les ajoute à une liste\n",
    "def recuperer_liste_restaurants(codeSource, liste_restaurants, liste_plats):\n",
    "    #req = requests.get(link)\n",
    "    #page = req.text\n",
    "    soup = BeautifulSoup(codeSource, 'html.parser')\n",
    "    restaurants = soup.find_all(restaurants_id)\n",
    "    i=0\n",
    "\n",
    "    for restaurant in restaurants:\n",
    "        restaurant = str(restaurant) \n",
    "        soup_r = BeautifulSoup(restaurant, 'html.parser')\n",
    "\n",
    "        #link\n",
    "        link = soup_r.find(\"h5\" , {\"class\" : \"name\"}).find(\"a\")[\"href\"]\n",
    "\n",
    "        #On vérifie que le restaurant n'est pas déjà dans la liste\n",
    "        isInList = False\n",
    "        for r in liste_restaurants:\n",
    "            if r[\"link\"]==link:\n",
    "                isInList = True\n",
    "\n",
    "        if not isInList:\n",
    "\n",
    "            #id\n",
    "            id_restaurant = i\n",
    "            i = i + 1\n",
    "\n",
    "            #name\n",
    "            name = soup_r.find(\"h5\" , {\"class\" : \"name\"}).text.replace(\"\\n\",\"\")\n",
    "\n",
    "            #logo\n",
    "            logo = \"\"\n",
    "            try:\n",
    "                logo = soup_r.find(\"img\" )['src']\n",
    "            except:\n",
    "                pass\n",
    "            \n",
    "            #address\n",
    "            address = soup_r.find(\"div\" , {\"class\" : \"address\"}).text\n",
    "            address = \" \".join(address.split())\n",
    "\n",
    "            #specialties\n",
    "            specialties = [x.text for x in soup_r.find(\"div\" , {\"class\" : \"cuisines\"}).find_all(\"li\")]\n",
    "\n",
    "            #work time \n",
    "            #TODO: A RETRAVAILLER\n",
    "            work_time = None\n",
    "\n",
    "            #minimum_order\n",
    "            temp = soup_r.find(\"li\", {\"class\" : \"minimum-order\"})\n",
    "            if temp is not None:\n",
    "                minimum_order = temp.find(\"strong\").text\n",
    "                minimum_order = \" \".join(minimum_order.split())\n",
    "            else : \n",
    "                minimum_order = \"0€\"\n",
    "\n",
    "            #print(type(name))\n",
    "            objet = {\n",
    "                \"id\" : id_restaurant,\n",
    "                \"name\" : name,\n",
    "                \"logo\" : logo,\n",
    "                \"address\" : address,\n",
    "                \"specialties\" : specialties,\n",
    "                \"work_time\" : work_time,\n",
    "                \"minimum_order\" : minimum_order,\n",
    "                \"link\" : link\n",
    "            }\n",
    "\n",
    "            liste_restaurants.append(objet)\n",
    "            #Appel de la fonction ajoutant la liste des plats\n",
    "            recuperer_liste_plats(link, id_restaurant, liste_plats)\n",
    "\n",
    "    #print(liste_restaurants)"
   ]
  },
  {
   "cell_type": "markdown",
   "metadata": {
    "collapsed": false
   },
   "source": [
    "#Liste des restaurants\n",
    "liste_restaurants = []\n",
    "liste_plats = []\n",
    "link = \"https://www.alloresto.fr/restaurants-livraison-a-domicile/zone-livraison/paris-12\"\n",
    "\n",
    "recuperer_liste_restaurants(link, liste_restaurants, liste_plats)\n"
   ]
  },
  {
   "cell_type": "markdown",
   "metadata": {
    "collapsed": false
   },
   "source": [
    "liste_restaurants"
   ]
  },
  {
   "cell_type": "markdown",
   "metadata": {
    "collapsed": false
   },
   "source": [
    "len(liste_restaurants)"
   ]
  },
  {
   "cell_type": "markdown",
   "metadata": {
    "collapsed": false
   },
   "source": [
    "liste_plats"
   ]
  },
  {
   "cell_type": "markdown",
   "metadata": {
    "collapsed": false
   },
   "source": [
    "len(liste_plats)"
   ]
  },
  {
   "cell_type": "code",
   "execution_count": null,
   "metadata": {
    "collapsed": true
   },
   "outputs": [],
   "source": [
    "#TODO : appui sur le bouton pour avoir tous les restaurants"
   ]
  },
  {
   "cell_type": "code",
   "execution_count": null,
   "metadata": {
    "collapsed": false
   },
   "outputs": [],
   "source": [
    "#test = json.dumps(liste_plats)\n",
    "#test"
   ]
  },
  {
   "cell_type": "markdown",
   "metadata": {
    "collapsed": false
   },
   "source": [
    "#Tests Selenium\n",
    "from selenium import webdriver\n",
    "from selenium.common.exceptions import TimeoutException\n",
    "from selenium.webdriver.support.ui import WebDriverWait # available since 2.4.0\n",
    "from selenium.webdriver.support import expected_conditions as EC # available since 2.26.0\n",
    "\n",
    "# Create a new instance of the Firefox driver\n",
    "driver = webdriver.Firefox()\n",
    "#driver = webdriver.PhantomJS()\n",
    "#driver = webdriver.Remote(\"http://localhost:4444/wd/hub\", webdriver.DesiredCapabilities.HTMLUNIT.copy())\n",
    "\n",
    "\n",
    "# go to the google home page\n",
    "driver.get(\"http://www.google.com\")\n",
    "\n",
    "# the page is ajaxy so the title is originally this:\n",
    "print (driver.title)\n",
    "\n",
    "# find the element that's name attribute is q (the google search box)\n",
    "inputElement = driver.find_element_by_name(\"q\")\n",
    "\n",
    "# type in the search\n",
    "inputElement.send_keys(\"cheese!\")\n",
    "\n",
    "# submit the form (although google automatically searches now without submitting)\n",
    "inputElement.submit()\n",
    "\n",
    "try:\n",
    "    # we have to wait for the page to refresh, the last thing that seems to be updated is the title\n",
    "    WebDriverWait(driver, 10).until(EC.title_contains(\"cheese!\"))\n",
    "\n",
    "    # You should see \"cheese! - Google Search\"\n",
    "    print(driver.title)\n",
    "\n",
    "finally:\n",
    "    driver.quit()"
   ]
  },
  {
   "cell_type": "code",
   "execution_count": null,
   "metadata": {
    "collapsed": false
   },
   "outputs": [],
   "source": [
    "def recuperer_page_alloresto(link):\n",
    "    # Create a new instance of the Firefox driver\n",
    "    driver = webdriver.Firefox()\n",
    "\n",
    "    # go to the page\n",
    "    driver.get(link)\n",
    "\n",
    "    inputElement = driver.find_element_by_css_selector(\"button.show-more\")\n",
    "    inputElement.click()\n",
    "\n",
    "    sortieBoucle = False \n",
    "    #i = 0\n",
    "    while sortieBoucle is False:\n",
    "        try:\n",
    "            # attendre que la page charge les restaurant supplémentaires\n",
    "            WebDriverWait(driver,20).until(EC.element_to_be_clickable((By.CLASS_NAME, 'show-more')))#EC.visibility_of(inputElement))\n",
    "            #print(i)\n",
    "            #i = i + 1\n",
    "            #On charge de nouveaux restaurants\n",
    "            inputElement = driver.find_element_by_css_selector(\"button.show-more\")\n",
    "            #print(inputElement)\n",
    "            inputElement.click()\n",
    "        except:\n",
    "            sortieBoucle = True\n",
    "            #raise\n",
    "\n",
    "    #recuperer le code source de la page\n",
    "    codeSource = driver.page_source\n",
    "    #On quitte le web driver\n",
    "    driver.quit()\n",
    "    #print (\"done\")\n",
    "    return codeSource"
   ]
  },
  {
   "cell_type": "markdown",
   "metadata": {
    "collapsed": false
   },
   "source": [
    "test = BeautifulSoup(codeSource, 'html.parser')\n",
    "print(test.prettify())"
   ]
  },
  {
   "cell_type": "code",
   "execution_count": null,
   "metadata": {
    "collapsed": false
   },
   "outputs": [],
   "source": [
    "liste_restaurants = []\n",
    "liste_plats = []\n",
    "link=\"https://www.alloresto.fr/restaurants-livraison-a-domicile/zone-livraison/paris-12\"\n",
    "codeSource = recuperer_page_alloresto(link)\n",
    "recuperer_liste_restaurants(codeSource, liste_restaurants, liste_plats)"
   ]
  },
  {
   "cell_type": "code",
   "execution_count": null,
   "metadata": {
    "collapsed": false
   },
   "outputs": [],
   "source": [
    "liste_restaurants"
   ]
  },
  {
   "cell_type": "code",
   "execution_count": null,
   "metadata": {
    "collapsed": false
   },
   "outputs": [],
   "source": [
    "len(liste_restaurants)"
   ]
  },
  {
   "cell_type": "code",
   "execution_count": null,
   "metadata": {
    "collapsed": false
   },
   "outputs": [],
   "source": [
    "liste_plats"
   ]
  },
  {
   "cell_type": "code",
   "execution_count": null,
   "metadata": {
    "collapsed": false
   },
   "outputs": [],
   "source": [
    "len(liste_plats)"
   ]
  }
 ],
 "metadata": {
  "anaconda-cloud": {},
  "kernelspec": {
   "display_name": "Python [Root]",
   "language": "python",
   "name": "Python [Root]"
  },
  "language_info": {
   "codemirror_mode": {
    "name": "ipython",
    "version": 3
   },
   "file_extension": ".py",
   "mimetype": "text/x-python",
   "name": "python",
   "nbconvert_exporter": "python",
   "pygments_lexer": "ipython3",
   "version": "3.5.2"
  }
 },
 "nbformat": 4,
 "nbformat_minor": 0
}
